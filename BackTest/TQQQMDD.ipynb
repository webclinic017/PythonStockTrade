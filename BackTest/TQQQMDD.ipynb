{
 "cells": [
  {
   "cell_type": "code",
   "execution_count": 1,
   "metadata": {},
   "outputs": [],
   "source": [
    "import pandas_datareader as pdr\n",
    "import datetime as dt\n",
    "import matplotlib.pylab as plt"
   ]
  },
  {
   "cell_type": "code",
   "execution_count": 2,
   "metadata": {},
   "outputs": [],
   "source": [
    "start = dt.datetime(2010,1,1)\n",
    "end = dt.datetime(2020,1,1)\n",
    "data =pdr.get_data_yahoo(\"TQQQ\", start,end)"
   ]
  },
  {
   "cell_type": "code",
   "execution_count": 3,
   "metadata": {},
   "outputs": [
    {
     "data": {
      "text/html": [
       "<div>\n",
       "<style scoped>\n",
       "    .dataframe tbody tr th:only-of-type {\n",
       "        vertical-align: middle;\n",
       "    }\n",
       "\n",
       "    .dataframe tbody tr th {\n",
       "        vertical-align: top;\n",
       "    }\n",
       "\n",
       "    .dataframe thead th {\n",
       "        text-align: right;\n",
       "    }\n",
       "</style>\n",
       "<table border=\"1\" class=\"dataframe\">\n",
       "  <thead>\n",
       "    <tr style=\"text-align: right;\">\n",
       "      <th></th>\n",
       "      <th>High</th>\n",
       "      <th>Low</th>\n",
       "      <th>Open</th>\n",
       "      <th>Close</th>\n",
       "      <th>Volume</th>\n",
       "      <th>Adj Close</th>\n",
       "    </tr>\n",
       "    <tr>\n",
       "      <th>Date</th>\n",
       "      <th></th>\n",
       "      <th></th>\n",
       "      <th></th>\n",
       "      <th></th>\n",
       "      <th></th>\n",
       "      <th></th>\n",
       "    </tr>\n",
       "  </thead>\n",
       "  <tbody>\n",
       "    <tr>\n",
       "      <th>2010-02-11</th>\n",
       "      <td>0.869792</td>\n",
       "      <td>0.811146</td>\n",
       "      <td>0.813750</td>\n",
       "      <td>0.865104</td>\n",
       "      <td>1728000.0</td>\n",
       "      <td>0.862942</td>\n",
       "    </tr>\n",
       "    <tr>\n",
       "      <th>2010-02-12</th>\n",
       "      <td>0.876146</td>\n",
       "      <td>0.836667</td>\n",
       "      <td>0.841563</td>\n",
       "      <td>0.868646</td>\n",
       "      <td>4300800.0</td>\n",
       "      <td>0.866475</td>\n",
       "    </tr>\n",
       "    <tr>\n",
       "      <th>2010-02-16</th>\n",
       "      <td>0.904375</td>\n",
       "      <td>0.875104</td>\n",
       "      <td>0.889063</td>\n",
       "      <td>0.902292</td>\n",
       "      <td>4809600.0</td>\n",
       "      <td>0.900037</td>\n",
       "    </tr>\n",
       "    <tr>\n",
       "      <th>2010-02-17</th>\n",
       "      <td>0.917813</td>\n",
       "      <td>0.900625</td>\n",
       "      <td>0.914375</td>\n",
       "      <td>0.917604</td>\n",
       "      <td>9590400.0</td>\n",
       "      <td>0.915311</td>\n",
       "    </tr>\n",
       "    <tr>\n",
       "      <th>2010-02-18</th>\n",
       "      <td>0.940521</td>\n",
       "      <td>0.911146</td>\n",
       "      <td>0.916667</td>\n",
       "      <td>0.935000</td>\n",
       "      <td>19430400.0</td>\n",
       "      <td>0.932663</td>\n",
       "    </tr>\n",
       "  </tbody>\n",
       "</table>\n",
       "</div>"
      ],
      "text/plain": [
       "                High       Low      Open     Close      Volume  Adj Close\n",
       "Date                                                                     \n",
       "2010-02-11  0.869792  0.811146  0.813750  0.865104   1728000.0   0.862942\n",
       "2010-02-12  0.876146  0.836667  0.841563  0.868646   4300800.0   0.866475\n",
       "2010-02-16  0.904375  0.875104  0.889063  0.902292   4809600.0   0.900037\n",
       "2010-02-17  0.917813  0.900625  0.914375  0.917604   9590400.0   0.915311\n",
       "2010-02-18  0.940521  0.911146  0.916667  0.935000  19430400.0   0.932663"
      ]
     },
     "execution_count": 3,
     "metadata": {},
     "output_type": "execute_result"
    }
   ],
   "source": [
    "data.head()"
   ]
  },
  {
   "cell_type": "code",
   "execution_count": null,
   "metadata": {},
   "outputs": [],
   "source": []
  }
 ],
 "metadata": {
  "interpreter": {
   "hash": "7b4b4feff2f24a0f0a34464dbe537a36fda679851528fb8735cb41fa49dffb2d"
  },
  "kernelspec": {
   "display_name": "Python 3.8.8 64-bit ('base': conda)",
   "language": "python",
   "name": "python3"
  },
  "language_info": {
   "codemirror_mode": {
    "name": "ipython",
    "version": 3
   },
   "file_extension": ".py",
   "mimetype": "text/x-python",
   "name": "python",
   "nbconvert_exporter": "python",
   "pygments_lexer": "ipython3",
   "version": "3.8.8"
  },
  "orig_nbformat": 4
 },
 "nbformat": 4,
 "nbformat_minor": 2
}
