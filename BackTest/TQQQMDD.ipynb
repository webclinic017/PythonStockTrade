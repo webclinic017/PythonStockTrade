{
 "cells": [
  {
   "cell_type": "code",
   "execution_count": 4,
   "metadata": {},
   "outputs": [],
   "source": [
    "import pandas_datareader as pdr\n",
    "import datetime as dt\n",
    "import matplotlib.pylab as plt\n",
    "import numpy as np"
   ]
  },
  {
   "cell_type": "code",
   "execution_count": 36,
   "metadata": {},
   "outputs": [],
   "source": [
    "start = dt.datetime(2010,1,1)\n",
    "end = dt.datetime(2021,12,21)\n",
    "data =pdr.get_data_yahoo(\"TQQQ\", start,end)"
   ]
  },
  {
   "cell_type": "code",
   "execution_count": 144,
   "metadata": {},
   "outputs": [
    {
     "data": {
      "text/html": [
       "<div>\n",
       "<style scoped>\n",
       "    .dataframe tbody tr th:only-of-type {\n",
       "        vertical-align: middle;\n",
       "    }\n",
       "\n",
       "    .dataframe tbody tr th {\n",
       "        vertical-align: top;\n",
       "    }\n",
       "\n",
       "    .dataframe thead th {\n",
       "        text-align: right;\n",
       "    }\n",
       "</style>\n",
       "<table border=\"1\" class=\"dataframe\">\n",
       "  <thead>\n",
       "    <tr style=\"text-align: right;\">\n",
       "      <th></th>\n",
       "      <th>High</th>\n",
       "      <th>Low</th>\n",
       "      <th>Open</th>\n",
       "      <th>Close</th>\n",
       "      <th>Volume</th>\n",
       "      <th>Adj Close</th>\n",
       "    </tr>\n",
       "    <tr>\n",
       "      <th>Date</th>\n",
       "      <th></th>\n",
       "      <th></th>\n",
       "      <th></th>\n",
       "      <th></th>\n",
       "      <th></th>\n",
       "      <th></th>\n",
       "    </tr>\n",
       "  </thead>\n",
       "  <tbody>\n",
       "    <tr>\n",
       "      <th>2010-02-11</th>\n",
       "      <td>0.869792</td>\n",
       "      <td>0.811146</td>\n",
       "      <td>0.813750</td>\n",
       "      <td>0.865104</td>\n",
       "      <td>1728000.0</td>\n",
       "      <td>0.862942</td>\n",
       "    </tr>\n",
       "    <tr>\n",
       "      <th>2010-02-12</th>\n",
       "      <td>0.876146</td>\n",
       "      <td>0.836667</td>\n",
       "      <td>0.841563</td>\n",
       "      <td>0.868646</td>\n",
       "      <td>4300800.0</td>\n",
       "      <td>0.866475</td>\n",
       "    </tr>\n",
       "    <tr>\n",
       "      <th>2010-02-16</th>\n",
       "      <td>0.904375</td>\n",
       "      <td>0.875104</td>\n",
       "      <td>0.889063</td>\n",
       "      <td>0.902292</td>\n",
       "      <td>4809600.0</td>\n",
       "      <td>0.900037</td>\n",
       "    </tr>\n",
       "    <tr>\n",
       "      <th>2010-02-17</th>\n",
       "      <td>0.917813</td>\n",
       "      <td>0.900625</td>\n",
       "      <td>0.914375</td>\n",
       "      <td>0.917604</td>\n",
       "      <td>9590400.0</td>\n",
       "      <td>0.915311</td>\n",
       "    </tr>\n",
       "    <tr>\n",
       "      <th>2010-02-18</th>\n",
       "      <td>0.940521</td>\n",
       "      <td>0.911146</td>\n",
       "      <td>0.916667</td>\n",
       "      <td>0.935000</td>\n",
       "      <td>19430400.0</td>\n",
       "      <td>0.932663</td>\n",
       "    </tr>\n",
       "    <tr>\n",
       "      <th>...</th>\n",
       "      <td>...</td>\n",
       "      <td>...</td>\n",
       "      <td>...</td>\n",
       "      <td>...</td>\n",
       "      <td>...</td>\n",
       "      <td>...</td>\n",
       "    </tr>\n",
       "    <tr>\n",
       "      <th>2021-12-14</th>\n",
       "      <td>157.559998</td>\n",
       "      <td>149.830002</td>\n",
       "      <td>154.119995</td>\n",
       "      <td>155.500000</td>\n",
       "      <td>57733400.0</td>\n",
       "      <td>155.500000</td>\n",
       "    </tr>\n",
       "    <tr>\n",
       "      <th>2021-12-15</th>\n",
       "      <td>166.270004</td>\n",
       "      <td>150.029999</td>\n",
       "      <td>154.960007</td>\n",
       "      <td>165.789993</td>\n",
       "      <td>67265300.0</td>\n",
       "      <td>165.789993</td>\n",
       "    </tr>\n",
       "    <tr>\n",
       "      <th>2021-12-16</th>\n",
       "      <td>167.619995</td>\n",
       "      <td>150.949997</td>\n",
       "      <td>167.009995</td>\n",
       "      <td>153.139999</td>\n",
       "      <td>74055000.0</td>\n",
       "      <td>153.139999</td>\n",
       "    </tr>\n",
       "    <tr>\n",
       "      <th>2021-12-17</th>\n",
       "      <td>155.789993</td>\n",
       "      <td>147.000000</td>\n",
       "      <td>148.830002</td>\n",
       "      <td>150.800003</td>\n",
       "      <td>75005200.0</td>\n",
       "      <td>150.800003</td>\n",
       "    </tr>\n",
       "    <tr>\n",
       "      <th>2021-12-20</th>\n",
       "      <td>147.250000</td>\n",
       "      <td>142.500000</td>\n",
       "      <td>145.020004</td>\n",
       "      <td>146.289993</td>\n",
       "      <td>60295700.0</td>\n",
       "      <td>146.289993</td>\n",
       "    </tr>\n",
       "  </tbody>\n",
       "</table>\n",
       "<p>2986 rows × 6 columns</p>\n",
       "</div>"
      ],
      "text/plain": [
       "                  High         Low        Open       Close      Volume  \\\n",
       "Date                                                                     \n",
       "2010-02-11    0.869792    0.811146    0.813750    0.865104   1728000.0   \n",
       "2010-02-12    0.876146    0.836667    0.841563    0.868646   4300800.0   \n",
       "2010-02-16    0.904375    0.875104    0.889063    0.902292   4809600.0   \n",
       "2010-02-17    0.917813    0.900625    0.914375    0.917604   9590400.0   \n",
       "2010-02-18    0.940521    0.911146    0.916667    0.935000  19430400.0   \n",
       "...                ...         ...         ...         ...         ...   \n",
       "2021-12-14  157.559998  149.830002  154.119995  155.500000  57733400.0   \n",
       "2021-12-15  166.270004  150.029999  154.960007  165.789993  67265300.0   \n",
       "2021-12-16  167.619995  150.949997  167.009995  153.139999  74055000.0   \n",
       "2021-12-17  155.789993  147.000000  148.830002  150.800003  75005200.0   \n",
       "2021-12-20  147.250000  142.500000  145.020004  146.289993  60295700.0   \n",
       "\n",
       "             Adj Close  \n",
       "Date                    \n",
       "2010-02-11    0.862942  \n",
       "2010-02-12    0.866475  \n",
       "2010-02-16    0.900037  \n",
       "2010-02-17    0.915311  \n",
       "2010-02-18    0.932663  \n",
       "...                ...  \n",
       "2021-12-14  155.500000  \n",
       "2021-12-15  165.789993  \n",
       "2021-12-16  153.139999  \n",
       "2021-12-17  150.800003  \n",
       "2021-12-20  146.289993  \n",
       "\n",
       "[2986 rows x 6 columns]"
      ]
     },
     "execution_count": 144,
     "metadata": {},
     "output_type": "execute_result"
    }
   ],
   "source": [
    "data"
   ]
  },
  {
   "cell_type": "code",
   "execution_count": 38,
   "metadata": {},
   "outputs": [
    {
     "name": "stdout",
     "output_type": "stream",
     "text": [
      "Date\n",
      "2010-02-11    0.000000\n",
      "2010-02-12    0.000000\n",
      "2010-02-16    0.000000\n",
      "2010-02-17    0.000000\n",
      "2010-02-18    0.000000\n",
      "                ...   \n",
      "2021-12-14    0.122163\n",
      "2021-12-15    0.064074\n",
      "2021-12-16    0.135486\n",
      "2021-12-17    0.148696\n",
      "2021-12-20    0.174156\n",
      "Name: Adj Close, Length: 2986, dtype: float64\n"
     ]
    }
   ],
   "source": [
    "list_adjClose = data[\"Adj Close\"]\n",
    "Drawdown = (np.maximum.accumulate(list_adjClose) - list_adjClose) /np.maximum.accumulate(list_adjClose)\n",
    "print(Drawdown)"
   ]
  },
  {
   "cell_type": "code",
   "execution_count": 130,
   "metadata": {},
   "outputs": [],
   "source": [
    "l = np.argmax((np.maximum.accumulate(list_adjClose) - list_adjClose) /np.maximum.accumulate(list_adjClose))\n",
    "k = np.argmax(list_adjClose[:l])"
   ]
  },
  {
   "cell_type": "code",
   "execution_count": 137,
   "metadata": {},
   "outputs": [
    {
     "data": {
      "text/plain": [
       "2521"
      ]
     },
     "execution_count": 137,
     "metadata": {},
     "output_type": "execute_result"
    }
   ],
   "source": [
    "k"
   ]
  },
  {
   "cell_type": "code",
   "execution_count": 138,
   "metadata": {},
   "outputs": [
    {
     "data": {
      "text/plain": [
       "2543"
      ]
     },
     "execution_count": 138,
     "metadata": {},
     "output_type": "execute_result"
    }
   ],
   "source": [
    "l"
   ]
  },
  {
   "cell_type": "code",
   "execution_count": 139,
   "metadata": {},
   "outputs": [
    {
     "data": {
      "text/plain": [
       "59.029998779296875"
      ]
     },
     "execution_count": 139,
     "metadata": {},
     "output_type": "execute_result"
    }
   ],
   "source": [
    "list_adjClose[k]"
   ]
  },
  {
   "cell_type": "code",
   "execution_count": 140,
   "metadata": {},
   "outputs": [
    {
     "data": {
      "text/plain": [
       "17.7549991607666"
      ]
     },
     "execution_count": 140,
     "metadata": {},
     "output_type": "execute_result"
    }
   ],
   "source": [
    "list_adjClose[l]"
   ]
  },
  {
   "cell_type": "code",
   "execution_count": 131,
   "metadata": {},
   "outputs": [],
   "source": [
    "mdd = (list_adjClose[k] - list_adjClose[l])/(list_adjClose[k])"
   ]
  },
  {
   "cell_type": "code",
   "execution_count": 132,
   "metadata": {},
   "outputs": [
    {
     "name": "stdout",
     "output_type": "stream",
     "text": [
      "0.6992207432165207\n"
     ]
    }
   ],
   "source": [
    "print(mdd)"
   ]
  },
  {
   "cell_type": "code",
   "execution_count": 123,
   "metadata": {},
   "outputs": [],
   "source": [
    "Roll_Max = data['Adj Close'].cummax()\n",
    "Daily_Drawdown = data['Adj Close']/Roll_Max - 1.0\n",
    "Max_Daily_Drawdown = Daily_Drawdown.cummin()"
   ]
  },
  {
   "cell_type": "code",
   "execution_count": 148,
   "metadata": {},
   "outputs": [
    {
     "data": {
      "text/plain": [
       "17.7549991607666"
      ]
     },
     "execution_count": 148,
     "metadata": {},
     "output_type": "execute_result"
    }
   ],
   "source": [
    "list_adjClose[np.argmin(Daily_Drawdown)]"
   ]
  },
  {
   "cell_type": "code",
   "execution_count": 127,
   "metadata": {},
   "outputs": [
    {
     "data": {
      "text/plain": [
       "2543"
      ]
     },
     "execution_count": 127,
     "metadata": {},
     "output_type": "execute_result"
    }
   ],
   "source": [
    "np.argmin(Max_Daily_Drawdown)"
   ]
  },
  {
   "cell_type": "code",
   "execution_count": 146,
   "metadata": {},
   "outputs": [
    {
     "data": {
      "text/plain": [
       "17.7549991607666"
      ]
     },
     "execution_count": 146,
     "metadata": {},
     "output_type": "execute_result"
    }
   ],
   "source": [
    "list_adjClose[np.argmin(Max_Daily_Drawdown)]"
   ]
  },
  {
   "cell_type": "code",
   "execution_count": 133,
   "metadata": {},
   "outputs": [
    {
     "data": {
      "image/png": "[encoded data removed]",
      "text/plain": [
       "<Figure size 432x288 with 1 Axes>"
      ]
     },
     "metadata": {
      "needs_background": "light"
     },
     "output_type": "display_data"
    }
   ],
   "source": [
    "Daily_Drawdown.plot()\n",
    "Max_Daily_Drawdown.plot()\n",
    "plt.show()"
   ]
  },
  {
   "cell_type": "code",
   "execution_count": 152,
   "metadata": {},
   "outputs": [],
   "source": [
    "mdd = Max_Daily_Drawdown.min()"
   ]
  },
  {
   "cell_type": "code",
   "execution_count": 153,
   "metadata": {},
   "outputs": [
    {
     "data": {
      "text/plain": [
       "-0.6992207432165207"
      ]
     },
     "execution_count": 153,
     "metadata": {},
     "output_type": "execute_result"
    }
   ],
   "source": [
    "mdd"
   ]
  },
  {
   "cell_type": "code",
   "execution_count": null,
   "metadata": {},
   "outputs": [],
   "source": []
  }
 ],
 "metadata": {
  "interpreter": {
   "hash": "7b4b4feff2f24a0f0a34464dbe537a36fda679851528fb8735cb41fa49dffb2d"
  },
  "kernelspec": {
   "display_name": "Python 3.8.8 64-bit ('base': conda)",
   "language": "python",
   "name": "python3"
  },
  "language_info": {
   "codemirror_mode": {
    "name": "ipython",
    "version": 3
   },
   "file_extension": ".py",
   "mimetype": "text/x-python",
   "name": "python",
   "nbconvert_exporter": "python",
   "pygments_lexer": "ipython3",
   "version": "3.8.8"
  },
  "orig_nbformat": 4
 },
 "nbformat": 4,
 "nbformat_minor": 2
}
