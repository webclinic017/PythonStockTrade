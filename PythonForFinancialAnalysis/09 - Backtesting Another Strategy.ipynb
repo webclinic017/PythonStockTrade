{
 "cells": [
  {
   "cell_type": "markdown",
   "metadata": {},
   "source": [
    "# Backtesting Another Strategy"
   ]
  },
  {
   "cell_type": "code",
   "execution_count": 1,
   "metadata": {},
   "outputs": [],
   "source": [
    "import pandas_datareader as pdr\n",
    "import datetime as dt\n",
    "import pandas as pd\n",
    "import numpy as np\n",
    "import matplotlib.pyplot as plt\n",
    "%matplotlib notebook"
   ]
  },
  {
   "cell_type": "code",
   "execution_count": 2,
   "metadata": {},
   "outputs": [],
   "source": [
    "tickers = ['SPY', 'IWM', 'MDY', 'QQQ', 'TLT']\n",
    "\n",
    "start = dt.datetime(2007, 1, 1)\n",
    "end = dt.datetime(2021, 1, 1)\n",
    "\n",
    "data = pdr.get_data_yahoo(tickers, start, end, interval='m')\n",
    "\n",
    "data = data['Adj Close']"
   ]
  },
  {
   "cell_type": "code",
   "execution_count": 3,
   "metadata": {},
   "outputs": [],
   "source": [
    "data['Short'] = 1.0\n",
    "data = data[['SPY', 'IWM', 'MDY', 'QQQ', 'Short', 'TLT']]"
   ]
  },
  {
   "cell_type": "code",
   "execution_count": 4,
   "metadata": {},
   "outputs": [],
   "source": [
    "log_returns = np.log(data/data.shift())"
   ]
  },
  {
   "cell_type": "code",
   "execution_count": 5,
   "metadata": {},
   "outputs": [],
   "source": [
    "strat = log_returns[['SPY', 'IWM', 'MDY', 'QQQ', 'Short']].copy()\n",
    "rolling_sum = strat.copy()\n",
    "\n",
    "for ticker in ['SPY', 'IWM', 'MDY', 'QQQ', 'Short']:\n",
    "    rolling_sum[ticker] = rolling_sum[ticker].rolling(3).sum()"
   ]
  },
  {
   "cell_type": "code",
   "execution_count": null,
   "metadata": {},
   "outputs": [],
   "source": [
    "rtn = strat[rolling_sum.apply(lambda x: x == rolling_sum.max(axis=1)).shift()].sum(axis=1)*.6\n",
    "rtn = rtn + log_returns['TLT']*.4"
   ]
  },
  {
   "cell_type": "markdown",
   "metadata": {},
   "source": [
    "### Project\n",
    "- Backtesting the strategy"
   ]
  },
  {
   "cell_type": "markdown",
   "metadata": {},
   "source": [
    "#### Step 1\n",
    "- Modify to evaluate monthly data"
   ]
  },
  {
   "cell_type": "markdown",
   "metadata": {},
   "source": []
  },
  {
   "cell_type": "code",
   "execution_count": null,
   "metadata": {},
   "outputs": [],
   "source": [
    "def calculate(log_return, start, end):\n",
    "    years = int(end) - int(start) + 1\n",
    "    \n",
    "    data = log_return.loc[start:end]\n",
    "    \n",
    "    cagr = np.exp(data.sum())**(1/years) - 1\n",
    "    \n",
    "    norm = data.cumsum().apply(np.exp)\n",
    "    \n",
    "    rolling_max = norm.cummax()\n",
    "    monthly_drawdown = norm/rolling_max - 1\n",
    "    drawdown = monthly_drawdown.cummin().iloc[-1]\n",
    "\n",
    "    volatility = data.std()*(12**.5)\n",
    "    \n",
    "    return cagr, drawdown, volatility"
   ]
  },
  {
   "cell_type": "markdown",
   "metadata": {},
   "source": [
    "#### Step 2\n",
    "- Copy paste visualization"
   ]
  },
  {
   "cell_type": "code",
   "execution_count": null,
   "metadata": {},
   "outputs": [],
   "source": [
    "def visualize(backtest, spy, start, end):\n",
    "    def x_titles(spy_val, bt_val):\n",
    "        spy_str = str(round(spy_val*100, 1))\n",
    "        bt_str = str(round(bt_val*100, 1))\n",
    "        return ['SPY\\n' + spy_str + '%', 'Backtest\\n' + bt_str + '%']\n",
    "        \n",
    "    spy_cagr, spy_drawdown, spy_vol = calculate(spy, start, end)\n",
    "    bt_cagr, bt_drawdown, bt_vol = calculate(backtest, start, end)\n",
    "\n",
    "    fig, ax = plt.subplots(2, 2)\n",
    "    \n",
    "    spy.loc[start:end].cumsum().apply(np.exp).plot(ax=ax[0, 0])\n",
    "    backtest.loc[start:end].cumsum().apply(np.exp).plot(ax=ax[0, 0], label='Backtest', c='c')\n",
    "    ax[0, 0].legend()\n",
    "    ax[0, 0].set_xticks([start, end])\n",
    "    \n",
    "    x = x_titles(spy_cagr, bt_cagr)\n",
    "    ax[0, 1].bar(x, [spy_cagr, bt_cagr], color=['b', 'c'])\n",
    "    ax[0, 1].set_title(\"CAGR\")\n",
    "    \n",
    "    x = x_titles(spy_drawdown, bt_drawdown)\n",
    "    ax[1, 0].bar(x, [spy_drawdown, bt_drawdown], color=['b', 'c'])\n",
    "    ax[1, 0].set_title(\"Drawdown\")\n",
    "\n",
    "    x = x_titles(spy_vol, bt_vol)\n",
    "    ax[1, 1].bar(x, [spy_vol, bt_vol], color=['b', 'c'])\n",
    "    ax[1, 1].set_title(\"Volatility\")\n",
    "\n",
    "    plt.tight_layout()"
   ]
  },
  {
   "cell_type": "markdown",
   "metadata": {},
   "source": [
    "#### Step 3\n",
    "- Backtest 2008 to end 2017\n",
    "- Backtest 2011 to end 2020"
   ]
  },
  {
   "cell_type": "code",
   "execution_count": null,
   "metadata": {},
   "outputs": [],
   "source": [
    "visualize(rtn, log_returns['SPY'], '2008', '2017')"
   ]
  },
  {
   "cell_type": "code",
   "execution_count": null,
   "metadata": {},
   "outputs": [],
   "source": [
    "visualize(rtn, log_returns['SPY'], '2011', '2020')"
   ]
  },
  {
   "cell_type": "code",
   "execution_count": null,
   "metadata": {},
   "outputs": [],
   "source": []
  },
  {
   "cell_type": "code",
   "execution_count": null,
   "metadata": {},
   "outputs": [],
   "source": []
  }
 ],
 "metadata": {
  "kernelspec": {
   "display_name": "Python 3",
   "language": "python",
   "name": "python3"
  },
  "language_info": {
   "codemirror_mode": {
    "name": "ipython",
    "version": 3
   },
   "file_extension": ".py",
   "mimetype": "text/x-python",
   "name": "python",
   "nbconvert_exporter": "python",
   "pygments_lexer": "ipython3",
   "version": "3.8.8"
  }
 },
 "nbformat": 4,
 "nbformat_minor": 4
}
