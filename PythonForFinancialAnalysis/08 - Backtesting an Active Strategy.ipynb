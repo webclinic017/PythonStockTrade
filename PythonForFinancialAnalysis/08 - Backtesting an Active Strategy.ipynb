{
 "cells": [
  {
   "cell_type": "markdown",
   "metadata": {},
   "source": [
    "# Backtesting an Active Strategy"
   ]
  },
  {
   "cell_type": "code",
   "execution_count": null,
   "metadata": {},
   "outputs": [],
   "source": [
    "import pandas_datareader as pdr\n",
    "import datetime as dt\n",
    "import pandas as pd\n",
    "import numpy as np\n",
    "import matplotlib.pyplot as plt\n",
    "%matplotlib notebook"
   ]
  },
  {
   "cell_type": "code",
   "execution_count": null,
   "metadata": {},
   "outputs": [],
   "source": [
    "tickers = ['SPY', 'TLT']\n",
    "\n",
    "start = dt.datetime(2007, 1, 1)\n",
    "end = dt.datetime(2021, 1, 1)\n",
    "\n",
    "data = pdr.get_data_yahoo(tickers, start, end)\n",
    "\n",
    "data = data['Adj Close']"
   ]
  },
  {
   "cell_type": "code",
   "execution_count": null,
   "metadata": {},
   "outputs": [],
   "source": [
    "ma = data['SPY'].rolling(200).mean()\n",
    "\n",
    "signal_line = data['SPY'] - ma\n",
    "signal_line = signal_line.apply(np.sign)"
   ]
  },
  {
   "cell_type": "code",
   "execution_count": null,
   "metadata": {},
   "outputs": [],
   "source": [
    "log_return = np.log(data/data.shift())"
   ]
  },
  {
   "cell_type": "code",
   "execution_count": null,
   "metadata": {},
   "outputs": [],
   "source": [
    "rtn = signal_line.clip(lower=0).shift(1)*log_return['SPY']\n",
    "rtn = rtn - (signal_line.clip(upper=0).shift())*log_return['TLT']"
   ]
  },
  {
   "cell_type": "code",
   "execution_count": null,
   "metadata": {},
   "outputs": [],
   "source": [
    "rtn.loc['2008':].cumsum().apply(np.exp)"
   ]
  },
  {
   "cell_type": "code",
   "execution_count": null,
   "metadata": {},
   "outputs": [],
   "source": [
    "log_return['SPY'].loc['2008':].cumsum().apply(np.exp)"
   ]
  },
  {
   "cell_type": "code",
   "execution_count": null,
   "metadata": {
    "scrolled": true
   },
   "outputs": [],
   "source": [
    "fig, ax = plt.subplots()\n",
    "\n",
    "rtn.loc['2008':].cumsum().apply(np.exp).plot(ax=ax, label='Backtest')\n",
    "log_return['SPY'].loc['2008':].cumsum().apply(np.exp).plot(ax=ax)\n",
    "ax.legend()"
   ]
  },
  {
   "cell_type": "markdown",
   "metadata": {},
   "source": [
    "### Project\n",
    "- Backtesting different periods and visualize results"
   ]
  },
  {
   "cell_type": "markdown",
   "metadata": {},
   "source": [
    "#### Step 1\n",
    "- Make a function which calucates the CAGR, maximum drawdown, and volatility"
   ]
  },
  {
   "cell_type": "code",
   "execution_count": null,
   "metadata": {},
   "outputs": [],
   "source": [
    "def calculate(log_return, start, end):\n",
    "    years = int(end) - int(start) + 1\n",
    "    \n",
    "    data = log_return.loc[start:end]\n",
    "    \n",
    "    cagr = np.exp(data.sum())**(1/years) - 1\n",
    "    \n",
    "    norm = data.cumsum().apply(np.exp)\n",
    "    \n",
    "    rolling_max = norm.rolling(252).max()\n",
    "    daily_drawdown = norm/rolling_max - 1\n",
    "    drawdown = daily_drawdown.cummin().iloc[-1]\n",
    "\n",
    "    volatility = data.std()*(252**.5)\n",
    "    \n",
    "    return cagr, drawdown, volatility"
   ]
  },
  {
   "cell_type": "markdown",
   "metadata": {},
   "source": [
    "#### Step 2\n",
    "- Use our function on SPY from 2008 to end 2017\n",
    "- And on our strategy in the same period"
   ]
  },
  {
   "cell_type": "code",
   "execution_count": null,
   "metadata": {},
   "outputs": [],
   "source": [
    "calculate(log_return['SPY'], '2008', '2017')"
   ]
  },
  {
   "cell_type": "code",
   "execution_count": null,
   "metadata": {
    "scrolled": false
   },
   "outputs": [],
   "source": [
    "calculate(rtn, '2008', '2017')"
   ]
  },
  {
   "cell_type": "markdown",
   "metadata": {},
   "source": [
    "#### Step 3\n",
    "- Create a visual reprentation of the result"
   ]
  },
  {
   "cell_type": "code",
   "execution_count": null,
   "metadata": {},
   "outputs": [],
   "source": [
    "def visualize(backtest, spy, start, end):\n",
    "    def x_titles(spy_val, bt_val):\n",
    "        spy_str = str(round(spy_val*100, 1))\n",
    "        bt_str = str(round(bt_val*100, 1))\n",
    "        return ['SPY\\n' + spy_str + '%', 'Backtest\\n' + bt_str + '%']\n",
    "        \n",
    "    spy_cagr, spy_drawdown, spy_vol = calculate(spy, start, end)\n",
    "    bt_cagr, bt_drawdown, bt_vol = calculate(backtest, start, end)\n",
    "\n",
    "    fig, ax = plt.subplots(2, 2)\n",
    "    \n",
    "    spy.loc[start:end].cumsum().apply(np.exp).plot(ax=ax[0, 0])\n",
    "    backtest.loc[start:end].cumsum().apply(np.exp).plot(ax=ax[0, 0], label='Backtest', c='c')\n",
    "    ax[0, 0].legend()\n",
    "    \n",
    "    x = x_titles(spy_cagr, bt_cagr)\n",
    "    ax[0, 1].bar(x, [spy_cagr, bt_cagr], color=['b', 'c'])\n",
    "    ax[0, 1].set_title(\"CAGR\")\n",
    "    \n",
    "    x = x_titles(spy_drawdown, bt_drawdown)\n",
    "    ax[1, 0].bar(x, [spy_drawdown, bt_drawdown], color=['b', 'c'])\n",
    "    ax[1, 0].set_title(\"Drawdown\")\n",
    "\n",
    "    x = x_titles(spy_vol, bt_vol)\n",
    "    ax[1, 1].bar(x, [spy_vol, bt_vol], color=['b', 'c'])\n",
    "    ax[1, 1].set_title(\"Volatility\")\n",
    "\n",
    "    plt.tight_layout()"
   ]
  },
  {
   "cell_type": "code",
   "execution_count": null,
   "metadata": {},
   "outputs": [],
   "source": [
    "visualize(rtn, log_return['SPY'], '2008', '2017')"
   ]
  },
  {
   "cell_type": "code",
   "execution_count": null,
   "metadata": {
    "scrolled": true
   },
   "outputs": [],
   "source": [
    "visualize(rtn, log_return['SPY'], '2011', '2020')"
   ]
  },
  {
   "cell_type": "code",
   "execution_count": null,
   "metadata": {},
   "outputs": [],
   "source": []
  }
 ],
 "metadata": {
  "kernelspec": {
   "display_name": "Python 3",
   "language": "python",
   "name": "python3"
  },
  "language_info": {
   "codemirror_mode": {
    "name": "ipython",
    "version": 3
   },
   "file_extension": ".py",
   "mimetype": "text/x-python",
   "name": "python",
   "nbconvert_exporter": "python",
   "pygments_lexer": "ipython3",
   "version": "3.8.5"
  }
 },
 "nbformat": 4,
 "nbformat_minor": 4
}
