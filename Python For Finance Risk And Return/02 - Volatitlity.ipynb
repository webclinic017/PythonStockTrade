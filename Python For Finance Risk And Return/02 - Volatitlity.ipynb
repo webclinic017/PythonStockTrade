{
 "cells": [
  {
   "cell_type": "markdown",
   "metadata": {},
   "source": [
    "# Volatility\n",
    "- Different ways to look at it\n",
    "- Here we will use: Average True Range (ATR)\n",
    "\n",
    "### What is Volatility?\n",
    "- Volatility has a number of different meanings\n",
    "- We use it in relation to price movement\n",
    "- Can be thought as the equivalent as risk"
   ]
  },
  {
   "cell_type": "markdown",
   "metadata": {},
   "source": [
    "### Resourses\n",
    "- Volatility https://www.investopedia.com/terms/v/volatility.asp\n",
    "- Average True Range https://www.investopedia.com/terms/a/atr.asp\n",
    "- Matplotlib http://matplotlib.org (https://youtu.be/2ywUfs0rgtU)"
   ]
  },
  {
   "cell_type": "code",
   "execution_count": null,
   "metadata": {},
   "outputs": [],
   "source": [
    "import numpy as np\n",
    "import pandas_datareader as pdr\n",
    "import datetime as dt\n",
    "import pandas as pd"
   ]
  },
  {
   "cell_type": "code",
   "execution_count": null,
   "metadata": {},
   "outputs": [],
   "source": [
    "start = dt.datetime(2020, 1, 1)\n",
    "data = pdr.get_data_yahoo(\"NFLX\", start)"
   ]
  },
  {
   "cell_type": "code",
   "execution_count": null,
   "metadata": {},
   "outputs": [],
   "source": [
    "data.head()"
   ]
  },
  {
   "cell_type": "markdown",
   "metadata": {},
   "source": [
    "### Formula\n",
    "$TR = \\max[H − L, |H − C_P|, |L − C_P|]$\n",
    "\n",
    "$ATR = \\frac{1}{n}\\sum_{i=1}^{n} TR_i$\n",
    "\n",
    "- $TR_i$: A particular True Range\n",
    "- $n$: The time period employed\n",
    "- $H$: Current High\n",
    "- $L$: Current Low\n",
    "- $C_P$: Previous Close\n"
   ]
  },
  {
   "cell_type": "code",
   "execution_count": null,
   "metadata": {},
   "outputs": [],
   "source": [
    "high_low = data['High'] - data['Low']\n",
    "high_cp = np.abs(data['High'] - data['Close'].shift())\n",
    "low_cp = np.abs(data['Low'] - data['Close'].shift())"
   ]
  },
  {
   "cell_type": "code",
   "execution_count": null,
   "metadata": {},
   "outputs": [],
   "source": [
    "df = pd.concat([high_low, high_cp, low_cp], axis=1)"
   ]
  },
  {
   "cell_type": "code",
   "execution_count": null,
   "metadata": {},
   "outputs": [],
   "source": [
    "true_range = np.max(df, axis=1)"
   ]
  },
  {
   "cell_type": "code",
   "execution_count": null,
   "metadata": {},
   "outputs": [],
   "source": [
    "average_true_range = true_range.rolling(14).mean()"
   ]
  },
  {
   "cell_type": "code",
   "execution_count": null,
   "metadata": {},
   "outputs": [],
   "source": [
    "average_true_range"
   ]
  },
  {
   "cell_type": "code",
   "execution_count": null,
   "metadata": {},
   "outputs": [],
   "source": [
    "true_range.rolling(14).sum()/14"
   ]
  },
  {
   "cell_type": "code",
   "execution_count": null,
   "metadata": {},
   "outputs": [],
   "source": [
    "import matplotlib.pyplot as plt\n",
    "%matplotlib notebook"
   ]
  },
  {
   "cell_type": "code",
   "execution_count": null,
   "metadata": {},
   "outputs": [],
   "source": [
    "fig, ax = plt.subplots()\n",
    "average_true_range.plot(ax=ax)\n",
    "ax2 = data['Close'].plot(ax=ax, secondary_y=True, alpha=.3)\n",
    "ax.set_ylabel(\"ATR\")\n",
    "ax2.set_ylabel(\"Price\")"
   ]
  },
  {
   "cell_type": "code",
   "execution_count": null,
   "metadata": {},
   "outputs": [],
   "source": []
  }
 ],
 "metadata": {
  "kernelspec": {
   "display_name": "Python 3",
   "language": "python",
   "name": "python3"
  },
  "language_info": {
   "codemirror_mode": {
    "name": "ipython",
    "version": 3
   },
   "file_extension": ".py",
   "mimetype": "text/x-python",
   "name": "python",
   "nbconvert_exporter": "python",
   "pygments_lexer": "ipython3",
   "version": "3.8.5"
  }
 },
 "nbformat": 4,
 "nbformat_minor": 4
}
