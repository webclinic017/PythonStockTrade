{
 "cells": [
  {
   "cell_type": "markdown",
   "metadata": {},
   "source": [
    "# Linear Regression\n",
    "- Attempts to establish how X causes Y"
   ]
  },
  {
   "cell_type": "markdown",
   "metadata": {},
   "source": [
    "### Correlation vs Linear Regression\n",
    "**Similarities**\n",
    "- Quantify the direction and strength of the relationship\n",
    "\n",
    "**Differences**\n",
    "- Correlation is a single statistic\n",
    "- Linear regression produces an equation"
   ]
  },
  {
   "cell_type": "code",
   "execution_count": null,
   "metadata": {},
   "outputs": [],
   "source": [
    "import pandas as pd\n",
    "import numpy as np\n",
    "from sklearn.linear_model import LinearRegression\n",
    "import pandas_datareader as pdr\n",
    "import datetime as dt\n",
    "import matplotlib.pyplot as plt\n",
    "%matplotlib notebook"
   ]
  },
  {
   "cell_type": "code",
   "execution_count": null,
   "metadata": {},
   "outputs": [],
   "source": [
    "X = np.random.randn(5000)\n",
    "Y = np.random.randn(5000)\n",
    "\n",
    "fig, ax = plt.subplots()\n",
    "ax.scatter(X, Y, alpha=.2)"
   ]
  },
  {
   "cell_type": "code",
   "execution_count": null,
   "metadata": {},
   "outputs": [],
   "source": [
    "tickers = ['AAPL', 'TWTR', 'IBM', 'MSFT', '^GSPC']\n",
    "start = dt.datetime(2020, 1, 1)\n",
    "\n",
    "data = pdr.get_data_yahoo(tickers, start)"
   ]
  },
  {
   "cell_type": "code",
   "execution_count": null,
   "metadata": {},
   "outputs": [],
   "source": [
    "data = data['Adj Close']"
   ]
  },
  {
   "cell_type": "code",
   "execution_count": null,
   "metadata": {},
   "outputs": [],
   "source": [
    "data.head()"
   ]
  },
  {
   "cell_type": "code",
   "execution_count": null,
   "metadata": {},
   "outputs": [],
   "source": [
    "log_returns = np.log(data/data.shift())"
   ]
  },
  {
   "cell_type": "code",
   "execution_count": null,
   "metadata": {},
   "outputs": [],
   "source": [
    "log_returns"
   ]
  },
  {
   "cell_type": "code",
   "execution_count": null,
   "metadata": {},
   "outputs": [],
   "source": [
    "def linear_regression(ticker_a, ticker_b):\n",
    "    X = log_returns[ticker_a].iloc[1:].to_numpy().reshape(-1, 1)\n",
    "    Y = log_returns[ticker_b].iloc[1:].to_numpy().reshape(-1, 1)\n",
    "\n",
    "    lin_regr = LinearRegression()\n",
    "    lin_regr.fit(X, Y)\n",
    "\n",
    "    Y_pred = lin_regr.predict(X)\n",
    "\n",
    "    alpha = lin_regr.intercept_[0]\n",
    "    beta = lin_regr.coef_[0, 0]\n",
    "\n",
    "    fig, ax = plt.subplots()\n",
    "    ax.set_title(\"Alpha: \" + str(round(alpha, 5)) + \", Beta: \" + str(round(beta, 3)))\n",
    "    ax.scatter(X, Y)\n",
    "    ax.plot(X, Y_pred, c='r')"
   ]
  },
  {
   "cell_type": "code",
   "execution_count": null,
   "metadata": {},
   "outputs": [],
   "source": [
    "linear_regression(\"AAPL\", \"^GSPC\")"
   ]
  },
  {
   "cell_type": "code",
   "execution_count": null,
   "metadata": {},
   "outputs": [],
   "source": [
    "linear_regression(\"AAPL\", \"MSFT\")"
   ]
  },
  {
   "cell_type": "code",
   "execution_count": null,
   "metadata": {},
   "outputs": [],
   "source": [
    "linear_regression(\"AAPL\", \"TWTR\")"
   ]
  },
  {
   "cell_type": "code",
   "execution_count": null,
   "metadata": {},
   "outputs": [],
   "source": []
  }
 ],
 "metadata": {
  "kernelspec": {
   "display_name": "Python 3",
   "language": "python",
   "name": "python3"
  },
  "language_info": {
   "codemirror_mode": {
    "name": "ipython",
    "version": 3
   },
   "file_extension": ".py",
   "mimetype": "text/x-python",
   "name": "python",
   "nbconvert_exporter": "python",
   "pygments_lexer": "ipython3",
   "version": "3.8.5"
  }
 },
 "nbformat": 4,
 "nbformat_minor": 4
}
